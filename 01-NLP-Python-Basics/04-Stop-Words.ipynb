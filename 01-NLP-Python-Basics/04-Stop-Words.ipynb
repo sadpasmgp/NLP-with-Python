{
 "cells": [
  {
   "cell_type": "markdown",
   "metadata": {},
   "source": [
    "___\n",
    "\n",
    "<a href='http://www.pieriandata.com'> <img src='../Pierian_Data_Logo.png' /></a>\n",
    "___"
   ]
  },
  {
   "cell_type": "markdown",
   "metadata": {},
   "source": [
    "# Stop Words\n",
    "Words like \"a\" and \"the\" appear so frequently that they don't require tagging as thoroughly as nouns, verbs and modifiers. We call these *stop words*, and they can be filtered from the text to be processed. spaCy holds a built-in list of some 305 English stop words."
   ]
  },
  {
   "cell_type": "code",
   "execution_count": 1,
   "metadata": {},
   "outputs": [],
   "source": [
    "# Perform standard imports:\n",
    "import spacy\n",
    "nlp = spacy.load('en_core_web_sm')"
   ]
  },
  {
   "cell_type": "code",
   "execution_count": 2,
   "metadata": {},
   "outputs": [
    {
     "name": "stdout",
     "output_type": "stream",
     "text": [
      "{'his', '‘d', 'n’t', 'last', 'often', 'forty', 'n‘t', 'a', 'which', \"'d\", 'full', 'among', 'thereupon', 'first', 'your', 'however', \"'ll\", 'themselves', 'nine', 'ca', 'one', 'three', '‘ve', 'anyway', 'were', 'serious', '’ll', '‘s', 'you', 'ever', 'side', 'whither', 'down', 'beforehand', 'anyhow', 'please', 'per', 'every', 'not', 'either', 'using', 'by', 'another', 'elsewhere', 'had', 'therein', 'or', 'top', 're', 'how', 'nobody', '‘re', 'him', 'those', 'seeming', 'an', 'whole', 'being', 'four', 'used', 'same', 'throughout', 'do', 'was', 'everyone', 'rather', 'cannot', 'once', 'onto', 'third', 'wherein', 'back', 'such', 'twelve', 'i', 'others', 'various', 'herself', 'thence', 'sometime', 'beside', 'if', 'to', '’ve', 'already', 'after', 'neither', 'name', 'amount', 'sometimes', 'hers', 'ten', 'least', 'two', 'herein', 'here', 'that', 'hundred', 'although', 'five', 'up', 'ourselves', \"'m\", 'because', 'eleven', 'other', 'all', 'take', 'there', 'keep', 'thereafter', 'our', 'really', 'where', 'fifteen', 'during', '’m', 'whereby', 'whoever', 'even', 'without', 'along', 'also', 'together', 'everywhere', 'from', 'fifty', 'nowhere', 'sixty', 'may', \"'ve\", 'say', 'whatever', 'doing', 'indeed', 'regarding', 'done', 'might', 'always', 'since', 'when', 'this', 'further', 'six', 'alone', 'whose', '’s', 'latter', 'us', 'whenever', 'everything', 'have', 'no', 'almost', 'of', 'why', 'while', 'across', 'hereafter', 'as', 'call', 'should', 'whom', 'well', 'could', 'upon', 'any', 'we', 'some', 'yourselves', 'me', 'hereby', 'less', 'does', 'seems', 'eight', 'itself', 'meanwhile', 'unless', 'each', 'whether', 'whereas', 'myself', 'go', 'and', 'except', 'next', 'with', 'put', 'been', '’d', 'former', 'off', 'anywhere', 'becoming', 'he', 'quite', 'amongst', 'towards', 'besides', 'these', 'seemed', 'yourself', 'into', 'whereafter', 'own', 'then', 'too', \"'s\", 'between', 'ours', 'front', 'becomes', 'mine', 'more', 'get', 'many', 'must', 'over', 'nothing', 'again', 'never', 'did', 'through', 'make', 'thus', 'mostly', 'something', 'see', 'somewhere', 'just', 'about', 'above', 'toward', 'would', 'yours', 'therefore', 'them', 'but', 'otherwise', 'only', 'am', 'latterly', 'none', \"n't\", 'thru', 'empty', 'become', 'made', 'what', 'her', 'they', 'is', 'though', 'so', 'via', 'nor', 'afterwards', 'thereby', 'several', 'hereupon', 'namely', 'beyond', 'for', 'else', 'somehow', 'out', 'than', \"'re\", 'bottom', 'very', 'under', 'became', '‘ll', 'on', 'hence', 'noone', 'it', 'due', '’re', 'show', 'before', 'be', 'its', 'my', 'nevertheless', 'now', 'part', 'whence', 'at', 'few', 'most', 'the', 'has', 'around', 'both', 'enough', 'whereupon', 'move', 'until', 'she', 'anyone', 'seem', 'twenty', 'himself', 'moreover', 'formerly', 'within', 'who', 'yet', 'give', 'can', 'perhaps', 'against', 'below', '‘m', 'behind', 'will', 'in', 'still', 'anything', 'wherever', 'someone', 'are', 'their', 'much'}\n"
     ]
    }
   ],
   "source": [
    "# Print the set of spaCy's default stop words (remember that sets are unordered):\n",
    "print(nlp.Defaults.stop_words)"
   ]
  },
  {
   "cell_type": "code",
   "execution_count": 3,
   "metadata": {},
   "outputs": [
    {
     "data": {
      "text/plain": [
       "326"
      ]
     },
     "execution_count": 3,
     "metadata": {},
     "output_type": "execute_result"
    }
   ],
   "source": [
    "len(nlp.Defaults.stop_words)"
   ]
  },
  {
   "cell_type": "markdown",
   "metadata": {},
   "source": [
    "## To see if a word is a stop word"
   ]
  },
  {
   "cell_type": "code",
   "execution_count": 4,
   "metadata": {},
   "outputs": [
    {
     "data": {
      "text/plain": [
       "True"
      ]
     },
     "execution_count": 4,
     "metadata": {},
     "output_type": "execute_result"
    }
   ],
   "source": [
    "nlp.vocab['myself'].is_stop"
   ]
  },
  {
   "cell_type": "code",
   "execution_count": 5,
   "metadata": {},
   "outputs": [
    {
     "data": {
      "text/plain": [
       "False"
      ]
     },
     "execution_count": 5,
     "metadata": {},
     "output_type": "execute_result"
    }
   ],
   "source": [
    "nlp.vocab['mystery'].is_stop"
   ]
  },
  {
   "cell_type": "markdown",
   "metadata": {},
   "source": [
    "## To add a stop word\n",
    "There may be times when you wish to add a stop word to the default set. Perhaps you decide that `'btw'` (common shorthand for \"by the way\") should be considered a stop word."
   ]
  },
  {
   "cell_type": "code",
   "execution_count": 6,
   "metadata": {},
   "outputs": [],
   "source": [
    "# Add the word to the set of stop words. Use lowercase!\n",
    "nlp.Defaults.stop_words.add('btw')\n",
    "\n",
    "# Set the stop_word tag on the lexeme\n",
    "nlp.vocab['btw'].is_stop = True"
   ]
  },
  {
   "cell_type": "code",
   "execution_count": 7,
   "metadata": {},
   "outputs": [
    {
     "data": {
      "text/plain": [
       "327"
      ]
     },
     "execution_count": 7,
     "metadata": {},
     "output_type": "execute_result"
    }
   ],
   "source": [
    "len(nlp.Defaults.stop_words)"
   ]
  },
  {
   "cell_type": "code",
   "execution_count": 8,
   "metadata": {},
   "outputs": [
    {
     "data": {
      "text/plain": [
       "True"
      ]
     },
     "execution_count": 8,
     "metadata": {},
     "output_type": "execute_result"
    }
   ],
   "source": [
    "nlp.vocab['btw'].is_stop"
   ]
  },
  {
   "cell_type": "markdown",
   "metadata": {},
   "source": [
    "<font color=green>When adding stop words, always use lowercase. Lexemes are converted to lowercase before being added to **vocab**.</font>"
   ]
  },
  {
   "cell_type": "markdown",
   "metadata": {},
   "source": [
    "## To remove a stop word\n",
    "Alternatively, you may decide that `'beyond'` should not be considered a stop word."
   ]
  },
  {
   "cell_type": "code",
   "execution_count": 9,
   "metadata": {},
   "outputs": [],
   "source": [
    "# Remove the word from the set of stop words\n",
    "nlp.Defaults.stop_words.remove('beyond')\n",
    "\n",
    "# Remove the stop_word tag from the lexeme\n",
    "nlp.vocab['beyond'].is_stop = False"
   ]
  },
  {
   "cell_type": "code",
   "execution_count": 10,
   "metadata": {},
   "outputs": [
    {
     "data": {
      "text/plain": [
       "326"
      ]
     },
     "execution_count": 10,
     "metadata": {},
     "output_type": "execute_result"
    }
   ],
   "source": [
    "len(nlp.Defaults.stop_words)"
   ]
  },
  {
   "cell_type": "code",
   "execution_count": 11,
   "metadata": {},
   "outputs": [
    {
     "data": {
      "text/plain": [
       "False"
      ]
     },
     "execution_count": 11,
     "metadata": {},
     "output_type": "execute_result"
    }
   ],
   "source": [
    "nlp.vocab['beyond'].is_stop"
   ]
  },
  {
   "cell_type": "markdown",
   "metadata": {},
   "source": [
    "Great! Now you should be able to access spaCy's default set of stop words, and add or remove stop words as needed.\n",
    "## Next up: Vocabulary and Matching"
   ]
  }
 ],
 "metadata": {
  "kernelspec": {
   "display_name": "Python 3",
   "language": "python",
   "name": "python3"
  },
  "language_info": {
   "codemirror_mode": {
    "name": "ipython",
    "version": 3
   },
   "file_extension": ".py",
   "mimetype": "text/x-python",
   "name": "python",
   "nbconvert_exporter": "python",
   "pygments_lexer": "ipython3",
   "version": "3.8.5"
  }
 },
 "nbformat": 4,
 "nbformat_minor": 2
}
